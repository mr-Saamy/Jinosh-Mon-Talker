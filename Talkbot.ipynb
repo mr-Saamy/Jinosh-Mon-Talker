{
 "cells": [
  {
   "cell_type": "code",
   "execution_count": 1,
   "metadata": {},
   "outputs": [],
   "source": [
    "from chatterbot import ChatBot \n",
    "from chatterbot.trainers import ChatterBotCorpusTrainer as cbct\n",
    "import speech_recognition as spr\n",
    "import pyttsx3"
   ]
  },
  {
   "cell_type": "code",
   "execution_count": 2,
   "metadata": {},
   "outputs": [],
   "source": [
    "bot=ChatBot('Jinosh Mon')\n",
    "bot.set_trainer(cbct)\n",
    "\n",
    "talk = pyttsx3.init()#initializing text to speech"
   ]
  },
  {
   "cell_type": "code",
   "execution_count": 3,
   "metadata": {},
   "outputs": [
    {
     "name": "stdout",
     "output_type": "stream",
     "text": [
      "ai.yml Training: [####################] 100%\n",
      "botprofile.yml Training: [####################] 100%\n",
      "computers.yml Training: [####################] 100%\n",
      "conversations.yml Training: [####################] 100%\n",
      "emotion.yml Training: [####################] 100%\n",
      "food.yml Training: [####################] 100%\n",
      "gossip.yml Training: [####################] 100%\n",
      "greetings.yml Training: [####################] 100%\n",
      "health.yml Training: [####################] 100%\n",
      "history.yml Training: [####################] 100%\n",
      "humor.yml Training: [####################] 100%\n",
      "literature.yml Training: [####################] 100%\n",
      "money.yml Training: [####################] 100%\n",
      "movies.yml Training: [####################] 100%\n",
      "politics.yml Training: [####################] 100%\n",
      "psychology.yml Training: [####################] 100%\n",
      "science.yml Training: [####################] 100%\n",
      "sports.yml Training: [####################] 100%\n",
      "trivia.yml Training: [####################] 100%\n"
     ]
    }
   ],
   "source": [
    "bot.train('chatterbot.corpus.english')"
   ]
  },
  {
   "cell_type": "code",
   "execution_count": null,
   "metadata": {},
   "outputs": [
    {
     "name": "stdout",
     "output_type": "stream",
     "text": [
      "Jinosh Mon listening...\n"
     ]
    }
   ],
   "source": [
    "while True:\n",
    "    speech = spr.Recognizer() #create object for recognizer to take voice input\n",
    "    mic = spr.Microphone()\n",
    "    with mic as source:\n",
    "        print('{} listening...'.format(bot.name))\n",
    "        audio = speech.listen(source)\n",
    "    try:\n",
    "        message = speech.recognize_google(audio)\n",
    "        print('You : {} '.format(message))\n",
    "        if(message == 'Bye see you later'):\n",
    "            reply = 'It was nice talking to you... See you soon...'\n",
    "            print('{} : {}'.format(bot.name,reply))\n",
    "            break\n",
    "        else:\n",
    "            reply = bot.get_response(message)\n",
    "            print('{} : {}'.format(bot.name,reply))\n",
    "    except:\n",
    "        reply = 'Pardon, Can you repeat?'\n",
    "        print('{} : {}'.format(bot.name,reply))\n",
    "    "
   ]
  },
  {
   "cell_type": "code",
   "execution_count": null,
   "metadata": {},
   "outputs": [],
   "source": []
  }
 ],
 "metadata": {
  "kernelspec": {
   "display_name": "Python 3",
   "language": "python",
   "name": "python3"
  },
  "language_info": {
   "codemirror_mode": {
    "name": "ipython",
    "version": 3
   },
   "file_extension": ".py",
   "mimetype": "text/x-python",
   "name": "python",
   "nbconvert_exporter": "python",
   "pygments_lexer": "ipython3",
   "version": "3.7.6"
  }
 },
 "nbformat": 4,
 "nbformat_minor": 4
}
